{
 "cells": [
  {
   "cell_type": "code",
   "execution_count": 1,
   "metadata": {},
   "outputs": [],
   "source": [
    "# import pandas as pd\n",
    "# data = pd.read_csv('/Users/aaronkarlsberg/Desktop/199/db.microbiome/Fungi/data.csv')\n",
    "# data.head()"
   ]
  },
  {
   "cell_type": "markdown",
   "metadata": {},
   "source": [
    "# ENSEMBLE"
   ]
  },
  {
   "cell_type": "code",
   "execution_count": 35,
   "metadata": {
    "scrolled": true
   },
   "outputs": [
    {
     "name": "stdout",
     "output_type": "stream",
     "text": [
      "Total number of fungi species in ensembl database:  17842\n"
     ]
    },
    {
     "data": {
      "text/html": [
       "<div>\n",
       "<style scoped>\n",
       "    .dataframe tbody tr th:only-of-type {\n",
       "        vertical-align: middle;\n",
       "    }\n",
       "\n",
       "    .dataframe tbody tr th {\n",
       "        vertical-align: top;\n",
       "    }\n",
       "\n",
       "    .dataframe thead th {\n",
       "        text-align: right;\n",
       "    }\n",
       "</style>\n",
       "<table border=\"1\" class=\"dataframe\">\n",
       "  <thead>\n",
       "    <tr style=\"text-align: right;\">\n",
       "      <th></th>\n",
       "      <th>only_chromosomes</th>\n",
       "      <th>150</th>\n",
       "    </tr>\n",
       "  </thead>\n",
       "  <tbody>\n",
       "    <tr>\n",
       "      <th>0</th>\n",
       "      <td>only_contig</td>\n",
       "      <td>618</td>\n",
       "    </tr>\n",
       "    <tr>\n",
       "      <th>1</th>\n",
       "      <td>chrom_and_contig</td>\n",
       "      <td>43</td>\n",
       "    </tr>\n",
       "  </tbody>\n",
       "</table>\n",
       "</div>"
      ],
      "text/plain": [
       "   only_chromosomes  150\n",
       "0       only_contig  618\n",
       "1  chrom_and_contig   43"
      ]
     },
     "execution_count": 35,
     "metadata": {},
     "output_type": "execute_result"
    }
   ],
   "source": [
    "import pandas as pd\n",
    "import seaborn as sns\n",
    "import sqlite3\n",
    "import csv\n",
    "\n",
    "# Create the connection\n",
    "cnx = sqlite3.connect(r'/Users/aaronkarlsberg/Desktop/199/db.microbiome/Fungi/data/refSeqFungiStats.db')\n",
    "\n",
    "# create the dataframe from a query\n",
    "ensembl_species = pd.read_sql_query(\"SELECT * FROM speciesdb where dbname = 'ENSEMBLE'\", cnx)\n",
    "print ('Total number of fungi species in ensembl database: ',ensembl_species.size)\n",
    "df.head()"
   ]
  },
  {
   "cell_type": "code",
   "execution_count": 47,
   "metadata": {},
   "outputs": [
    {
     "name": "stdout",
     "output_type": "stream",
     "text": [
      "ensemble species with only chromosomes: 150\n",
      "ensemble species with only contigs: 618\n",
      "species that contain both chromosomes and contigs: 43\n"
     ]
    },
    {
     "data": {
      "image/png": "[encoded data removed]",
      "text/plain": [
       "<Figure size 432x288 with 1 Axes>"
      ]
     },
     "metadata": {},
     "output_type": "display_data"
    }
   ],
   "source": [
    "ensembl_chr = pd.read_sql_query(\"SELECT TAXID FROM speciesdb where dbname = 'ENSEMBLE' AND chromosome_count > 0 AND contig_count == 0\", cnx).size\n",
    "ensembl_contig = pd.read_sql_query(\"SELECT TAXID FROM speciesdb where dbname = 'ENSEMBLE' AND chromosome_count == 0 AND contig_count >0\", cnx).size\n",
    "chrom_and_contig = pd.read_sql_query(\"SELECT TAXID FROM speciesdb where dbname = 'ENSEMBLE' AND chromosome_count > 0 AND contig_count > 0\", cnx).size\n",
    "\n",
    "\n",
    "ensemble_dict = {\"only_chromosomes\": ensembl_chr, \"only_contig\": ensembl_contig, \"chrom_and_contig\": chrom_and_contig}\n",
    "index = {\"ENSEMBLE\"}\n",
    "df = pd.DataFrame(ensemble_dict, index=index)\n",
    "ax = df.plot.bar(rot=0)\n",
    "\n",
    "# with open('ensemble_dict.csv', 'w') as csv_file:\n",
    "#     writer = csv.writer(csv_file)\n",
    "#     for key, value in ensemble_dict.items():\n",
    "#        writer.writerow([key, value])\n",
    "# df = pd.read_csv('ensemble_dict.csv')\n",
    "\n",
    "print(\"ensemble species with only chromosomes:\", ensembl_chr)\n",
    "print(\"ensemble species with only contigs:\", ensembl_contig )\n",
    "print(\"species that contain both chromosomes and contigs:\", chrom_and_contig)\n",
    "\n"
   ]
  },
  {
   "cell_type": "markdown",
   "metadata": {},
   "source": [
    "# Combined DNA Type Breakdown (ENSEMBL, 1K, NCBI)"
   ]
  },
  {
   "cell_type": "code",
   "execution_count": 53,
   "metadata": {},
   "outputs": [
    {
     "data": {
      "image/png": "[encoded data removed]",
      "text/plain": [
       "<Figure size 432x288 with 1 Axes>"
      ]
     },
     "metadata": {},
     "output_type": "display_data"
    }
   ],
   "source": [
    "only_chr = [7, 17.5, 5]\n",
    "only_contig = [2, 8, 70]\n",
    "contig_and_chr = [5,5,5]\n",
    "index = ['ENSEMBL', 'NCBI', '1K']\n",
    "df = pd.DataFrame({'only chromsomes': only_chr,'only contigs': only_contig, 'contig_and_chr': contig_and_chr}, index=index)\n",
    "ax = df.plot.bar(rot=0)"
   ]
  },
  {
   "cell_type": "code",
   "execution_count": null,
   "metadata": {},
   "outputs": [],
   "source": []
  },
  {
   "cell_type": "code",
   "execution_count": null,
   "metadata": {},
   "outputs": [],
   "source": []
  },
  {
   "cell_type": "code",
   "execution_count": null,
   "metadata": {},
   "outputs": [],
   "source": []
  }
 ],
 "metadata": {
  "kernelspec": {
   "display_name": "Python 3",
   "language": "python",
   "name": "python3"
  },
  "language_info": {
   "codemirror_mode": {
    "name": "ipython",
    "version": 3
   },
   "file_extension": ".py",
   "mimetype": "text/x-python",
   "name": "python",
   "nbconvert_exporter": "python",
   "pygments_lexer": "ipython3",
   "version": "3.6.5"
  }
 },
 "nbformat": 4,
 "nbformat_minor": 2
}
