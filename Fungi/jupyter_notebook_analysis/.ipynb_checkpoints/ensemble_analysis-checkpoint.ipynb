{
 "cells": [
  {
   "cell_type": "code",
   "execution_count": 1,
   "metadata": {},
   "outputs": [],
   "source": [
    "# import pandas as pd\n",
    "# data = pd.read_csv('/Users/aaronkarlsberg/Desktop/199/db.microbiome/Fungi/data.csv')\n",
    "# data.head()"
   ]
  },
  {
   "cell_type": "markdown",
   "metadata": {},
   "source": [
    "# ENSEMBLE"
   ]
  },
  {
   "cell_type": "code",
   "execution_count": 2,
   "metadata": {
    "scrolled": true
   },
   "outputs": [
    {
     "name": "stdout",
     "output_type": "stream",
     "text": [
      "Total number of fungi species in ensembl database:  17842\n"
     ]
    },
    {
     "data": {
      "text/html": [
       "<div>\n",
       "<style scoped>\n",
       "    .dataframe tbody tr th:only-of-type {\n",
       "        vertical-align: middle;\n",
       "    }\n",
       "\n",
       "    .dataframe tbody tr th {\n",
       "        vertical-align: top;\n",
       "    }\n",
       "\n",
       "    .dataframe thead th {\n",
       "        text-align: right;\n",
       "    }\n",
       "</style>\n",
       "<table border=\"1\" class=\"dataframe\">\n",
       "  <thead>\n",
       "    <tr style=\"text-align: right;\">\n",
       "      <th></th>\n",
       "      <th>TAXID</th>\n",
       "      <th>GENUSNAME</th>\n",
       "      <th>SPECIESNAME</th>\n",
       "      <th>STRAIN</th>\n",
       "      <th>DBNAME</th>\n",
       "      <th>FILEPATH</th>\n",
       "      <th>chromosome_count</th>\n",
       "      <th>avg_length_chromosomes</th>\n",
       "      <th>max_length_chromosomes</th>\n",
       "      <th>min_length_chromosomes</th>\n",
       "      <th>...</th>\n",
       "      <th>max_length_contig</th>\n",
       "      <th>min_length_contig</th>\n",
       "      <th>mtDNA_count</th>\n",
       "      <th>avg_length_mtDNA</th>\n",
       "      <th>max_length_mtDNA</th>\n",
       "      <th>min_length_mtDNA</th>\n",
       "      <th>plasmid_count</th>\n",
       "      <th>avg_length_plasmids</th>\n",
       "      <th>max_length_plasmids</th>\n",
       "      <th>min_length_plasmids</th>\n",
       "    </tr>\n",
       "  </thead>\n",
       "  <tbody>\n",
       "    <tr>\n",
       "      <th>0</th>\n",
       "      <td>4829</td>\n",
       "      <td>absidia</td>\n",
       "      <td>glauca</td>\n",
       "      <td></td>\n",
       "      <td>ENSEMBLE</td>\n",
       "      <td>/u/home/a/akarlsbe/scratch/fungi/ENSEMBLE/Absi...</td>\n",
       "      <td>0</td>\n",
       "      <td>0</td>\n",
       "      <td>0</td>\n",
       "      <td>0</td>\n",
       "      <td>...</td>\n",
       "      <td>1790682</td>\n",
       "      <td>221</td>\n",
       "      <td>0</td>\n",
       "      <td>0</td>\n",
       "      <td>0</td>\n",
       "      <td>0</td>\n",
       "      <td>0</td>\n",
       "      <td>0</td>\n",
       "      <td>0</td>\n",
       "      <td>0</td>\n",
       "    </tr>\n",
       "    <tr>\n",
       "      <th>1</th>\n",
       "      <td>245562</td>\n",
       "      <td>acidomyces</td>\n",
       "      <td>richmondensis</td>\n",
       "      <td></td>\n",
       "      <td>ENSEMBLE</td>\n",
       "      <td>/u/home/a/akarlsbe/scratch/fungi/ENSEMBLE/Acid...</td>\n",
       "      <td>0</td>\n",
       "      <td>0</td>\n",
       "      <td>0</td>\n",
       "      <td>0</td>\n",
       "      <td>...</td>\n",
       "      <td>256309</td>\n",
       "      <td>1017</td>\n",
       "      <td>0</td>\n",
       "      <td>0</td>\n",
       "      <td>0</td>\n",
       "      <td>0</td>\n",
       "      <td>0</td>\n",
       "      <td>0</td>\n",
       "      <td>0</td>\n",
       "      <td>0</td>\n",
       "    </tr>\n",
       "    <tr>\n",
       "      <th>2</th>\n",
       "      <td>766039</td>\n",
       "      <td>acidomyces</td>\n",
       "      <td>richmondensis bfw</td>\n",
       "      <td></td>\n",
       "      <td>ENSEMBLE</td>\n",
       "      <td>/u/home/a/akarlsbe/scratch/fungi/ENSEMBLE/Acid...</td>\n",
       "      <td>0</td>\n",
       "      <td>0</td>\n",
       "      <td>0</td>\n",
       "      <td>0</td>\n",
       "      <td>...</td>\n",
       "      <td>219268</td>\n",
       "      <td>357</td>\n",
       "      <td>0</td>\n",
       "      <td>0</td>\n",
       "      <td>0</td>\n",
       "      <td>0</td>\n",
       "      <td>0</td>\n",
       "      <td>0</td>\n",
       "      <td>0</td>\n",
       "      <td>0</td>\n",
       "    </tr>\n",
       "    <tr>\n",
       "      <th>3</th>\n",
       "      <td>857340</td>\n",
       "      <td>acremonium</td>\n",
       "      <td>chrysogenum atcc 11550</td>\n",
       "      <td></td>\n",
       "      <td>ENSEMBLE</td>\n",
       "      <td>/u/home/a/akarlsbe/scratch/fungi/ENSEMBLE/Acre...</td>\n",
       "      <td>0</td>\n",
       "      <td>0</td>\n",
       "      <td>0</td>\n",
       "      <td>0</td>\n",
       "      <td>...</td>\n",
       "      <td>893296</td>\n",
       "      <td>315</td>\n",
       "      <td>1</td>\n",
       "      <td>27766</td>\n",
       "      <td>27766</td>\n",
       "      <td>27766</td>\n",
       "      <td>0</td>\n",
       "      <td>0</td>\n",
       "      <td>0</td>\n",
       "      <td>0</td>\n",
       "    </tr>\n",
       "    <tr>\n",
       "      <th>4</th>\n",
       "      <td>597362</td>\n",
       "      <td>agaricus</td>\n",
       "      <td>bisporus var. burnettii jb137-s8</td>\n",
       "      <td></td>\n",
       "      <td>ENSEMBLE</td>\n",
       "      <td>/u/home/a/akarlsbe/scratch/fungi/ENSEMBLE/Agar...</td>\n",
       "      <td>0</td>\n",
       "      <td>0</td>\n",
       "      <td>0</td>\n",
       "      <td>0</td>\n",
       "      <td>...</td>\n",
       "      <td>3023116</td>\n",
       "      <td>509</td>\n",
       "      <td>0</td>\n",
       "      <td>0</td>\n",
       "      <td>0</td>\n",
       "      <td>0</td>\n",
       "      <td>0</td>\n",
       "      <td>0</td>\n",
       "      <td>0</td>\n",
       "      <td>0</td>\n",
       "    </tr>\n",
       "  </tbody>\n",
       "</table>\n",
       "<p>5 rows × 22 columns</p>\n",
       "</div>"
      ],
      "text/plain": [
       "    TAXID   GENUSNAME                       SPECIESNAME STRAIN    DBNAME  \\\n",
       "0    4829     absidia                            glauca         ENSEMBLE   \n",
       "1  245562  acidomyces                     richmondensis         ENSEMBLE   \n",
       "2  766039  acidomyces                 richmondensis bfw         ENSEMBLE   \n",
       "3  857340  acremonium            chrysogenum atcc 11550         ENSEMBLE   \n",
       "4  597362    agaricus  bisporus var. burnettii jb137-s8         ENSEMBLE   \n",
       "\n",
       "                                            FILEPATH  chromosome_count  \\\n",
       "0  /u/home/a/akarlsbe/scratch/fungi/ENSEMBLE/Absi...                 0   \n",
       "1  /u/home/a/akarlsbe/scratch/fungi/ENSEMBLE/Acid...                 0   \n",
       "2  /u/home/a/akarlsbe/scratch/fungi/ENSEMBLE/Acid...                 0   \n",
       "3  /u/home/a/akarlsbe/scratch/fungi/ENSEMBLE/Acre...                 0   \n",
       "4  /u/home/a/akarlsbe/scratch/fungi/ENSEMBLE/Agar...                 0   \n",
       "\n",
       "   avg_length_chromosomes  max_length_chromosomes  min_length_chromosomes  \\\n",
       "0                       0                       0                       0   \n",
       "1                       0                       0                       0   \n",
       "2                       0                       0                       0   \n",
       "3                       0                       0                       0   \n",
       "4                       0                       0                       0   \n",
       "\n",
       "          ...           max_length_contig  min_length_contig  mtDNA_count  \\\n",
       "0         ...                     1790682                221            0   \n",
       "1         ...                      256309               1017            0   \n",
       "2         ...                      219268                357            0   \n",
       "3         ...                      893296                315            1   \n",
       "4         ...                     3023116                509            0   \n",
       "\n",
       "   avg_length_mtDNA  max_length_mtDNA  min_length_mtDNA  plasmid_count  \\\n",
       "0                 0                 0                 0              0   \n",
       "1                 0                 0                 0              0   \n",
       "2                 0                 0                 0              0   \n",
       "3             27766             27766             27766              0   \n",
       "4                 0                 0                 0              0   \n",
       "\n",
       "   avg_length_plasmids  max_length_plasmids  min_length_plasmids  \n",
       "0                    0                    0                    0  \n",
       "1                    0                    0                    0  \n",
       "2                    0                    0                    0  \n",
       "3                    0                    0                    0  \n",
       "4                    0                    0                    0  \n",
       "\n",
       "[5 rows x 22 columns]"
      ]
     },
     "execution_count": 2,
     "metadata": {},
     "output_type": "execute_result"
    }
   ],
   "source": [
    "import pandas as pd\n",
    "import seaborn as sns\n",
    "import sqlite3\n",
    "import csv\n",
    "\n",
    "# Create the connection\n",
    "cnx = sqlite3.connect(r'/Users/aaronkarlsberg/Desktop/199/db.microbiome/Fungi/data/refSeqFungiStats.db')\n",
    "\n",
    "# create the dataframe from a query\n",
    "ensembl_species = pd.read_sql_query(\"SELECT * FROM speciesdb where dbname = 'ENSEMBLE'\", cnx)\n",
    "print ('Total number of fungi species in ensembl database: ',ensembl_species.size)\n",
    "ensembl_species.head()"
   ]
  },
  {
   "cell_type": "code",
   "execution_count": 3,
   "metadata": {
    "scrolled": true
   },
   "outputs": [
    {
     "name": "stdout",
     "output_type": "stream",
     "text": [
      "ensemble species with only chromosomes: 150\n",
      "ensemble species with only contigs: 618\n",
      "species that contain both chromosomes and contigs: 43\n"
     ]
    },
    {
     "data": {
      "image/png": "[encoded data removed]",
      "text/plain": [
       "<Figure size 432x288 with 1 Axes>"
      ]
     },
     "metadata": {},
     "output_type": "display_data"
    }
   ],
   "source": [
    "import pandas as pd\n",
    "import seaborn as sns\n",
    "import sqlite3\n",
    "import csv\n",
    "\n",
    "# Create the connection\n",
    "cnx = sqlite3.connect(r'/Users/aaronkarlsberg/Desktop/199/db.microbiome/Fungi/data/refSeqFungiStats.db')\n",
    "\n",
    "ensembl_chr = pd.read_sql_query(\"SELECT TAXID FROM speciesdb where dbname = 'ENSEMBLE' AND chromosome_count > 0 AND contig_count == 0\", cnx).size\n",
    "ensembl_contig = pd.read_sql_query(\"SELECT TAXID FROM speciesdb where dbname = 'ENSEMBLE' AND chromosome_count == 0 AND contig_count >0\", cnx).size\n",
    "chrom_and_contig = pd.read_sql_query(\"SELECT TAXID FROM speciesdb where dbname = 'ENSEMBLE' AND chromosome_count > 0 AND contig_count > 0\", cnx).size\n",
    "\n",
    "\n",
    "ensemble_dict = {\"only_chromosomes\": ensembl_chr, \"only_contig\": ensembl_contig, \"chrom_and_contig\": chrom_and_contig}\n",
    "index = {\"ENSEMBLE\"}\n",
    "df = pd.DataFrame(ensemble_dict, index=index)\n",
    "ax = df.plot.bar(rot=0)\n",
    "\n",
    "# with open('ensemble_dict.csv', 'w') as csv_file:\n",
    "#     writer = csv.writer(csv_file)\n",
    "#     for key, value in ensemble_dict.items():\n",
    "#        writer.writerow([key, value])\n",
    "# df = pd.read_csv('ensemble_dict.csv')\n",
    "\n",
    "print(\"ensemble species with only chromosomes:\", ensembl_chr)\n",
    "print(\"ensemble species with only contigs:\", ensembl_contig )\n",
    "print(\"species that contain both chromosomes and contigs:\", chrom_and_contig)\n",
    "\n"
   ]
  },
  {
   "cell_type": "markdown",
   "metadata": {},
   "source": [
    "# NCBI"
   ]
  },
  {
   "cell_type": "code",
   "execution_count": 4,
   "metadata": {},
   "outputs": [
    {
     "name": "stdout",
     "output_type": "stream",
     "text": [
      "NCBI species with only chromosomes: 65\n",
      "NCBI species with only contigs: 193\n",
      "NCBI that contain both chromosomes and contigs: 10\n"
     ]
    },
    {
     "data": {
      "image/png": "[encoded data removed]",
      "text/plain": [
       "<Figure size 432x288 with 1 Axes>"
      ]
     },
     "metadata": {},
     "output_type": "display_data"
    }
   ],
   "source": [
    "import pandas as pd\n",
    "import seaborn as sns\n",
    "import sqlite3\n",
    "import csv\n",
    "cnx = sqlite3.connect(r'/Users/aaronkarlsberg/Desktop/199/db.microbiome/Fungi/data/refSeqFungiStats.db')\n",
    "\n",
    "ncbi_chr = pd.read_sql_query(\"SELECT TAXID FROM speciesdb where dbname = 'NCBI' AND chromosome_count > 0 AND contig_count == 0\", cnx).size\n",
    "ncbi_contig = pd.read_sql_query(\"SELECT TAXID FROM speciesdb where dbname = 'NCBI' AND chromosome_count == 0 AND contig_count >0\", cnx).size\n",
    "chrom_and_contig = pd.read_sql_query(\"SELECT TAXID FROM speciesdb where dbname = 'NCBI' AND chromosome_count > 0 AND contig_count > 0\", cnx).size\n",
    "\n",
    "\n",
    "ncbi_dict = {\"only_chromosomes\": ncbi_chr, \"only_contig\": ncbi_contig, \"chrom_and_contig\": chrom_and_contig}\n",
    "index = {\"NCBI\"}\n",
    "df = pd.DataFrame(ncbi_dict, index=index)\n",
    "ax = df.plot.bar(rot=0)\n",
    "\n",
    "# with open('ensemble_dict.csv', 'w') as csv_file:\n",
    "#     writer = csv.writer(csv_file)\n",
    "#     for key, value in ensemble_dict.items():\n",
    "#        writer.writerow([key, value])\n",
    "# df = pd.read_csv('ensemble_dict.csv')\n",
    "\n",
    "print(\"NCBI species with only chromosomes:\", ncbi_chr)\n",
    "print(\"NCBI species with only contigs:\", ncbi_contig )\n",
    "print(\"NCBI that contain both chromosomes and contigs:\", chrom_and_contig)"
   ]
  },
  {
   "cell_type": "markdown",
   "metadata": {},
   "source": [
    "# 1k"
   ]
  },
  {
   "cell_type": "code",
   "execution_count": 5,
   "metadata": {},
   "outputs": [
    {
     "name": "stdout",
     "output_type": "stream",
     "text": [
      "1k species with only chromosomes: 15\n",
      "1k species with only contigs: 978\n",
      "1k that contain both chromosomes and contigs: 4\n"
     ]
    },
    {
     "data": {
      "image/png": "[encoded data removed]",
      "text/plain": [
       "<Figure size 432x288 with 1 Axes>"
      ]
     },
     "metadata": {},
     "output_type": "display_data"
    }
   ],
   "source": [
    "import pandas as pd\n",
    "import seaborn as sns\n",
    "import sqlite3\n",
    "import csv\n",
    "cnx = sqlite3.connect(r'/Users/aaronkarlsberg/Desktop/199/db.microbiome/Fungi/data/refSeqFungiStats.db')\n",
    "\n",
    "onek_chr = pd.read_sql_query(\"SELECT TAXID FROM speciesdb where dbname = '1K' AND chromosome_count > 0 AND contig_count == 0\", cnx).size\n",
    "onek_contig = pd.read_sql_query(\"SELECT TAXID FROM speciesdb where dbname = '1K' AND chromosome_count == 0 AND contig_count >0\", cnx).size\n",
    "chrom_and_contig = pd.read_sql_query(\"SELECT TAXID FROM speciesdb where dbname = '1K' AND chromosome_count > 0 AND contig_count > 0\", cnx).size\n",
    "\n",
    "\n",
    "onek_dict = {\"only_chromosomes\": onek_chr, \"only_contig\": onek_contig, \"chrom_and_contig\": chrom_and_contig}\n",
    "index = {\"1k\"}\n",
    "df = pd.DataFrame(onek_dict, index=index)\n",
    "ax = df.plot.bar(rot=0)\n",
    "\n",
    "# with open('ensemble_dict.csv', 'w') as csv_file:\n",
    "#     writer = csv.writer(csv_file)\n",
    "#     for key, value in ensemble_dict.items():\n",
    "#        writer.writerow([key, value])\n",
    "# df = pd.read_csv('ensemble_dict.csv')\n",
    "\n",
    "print(\"1k species with only chromosomes:\", onek_chr)\n",
    "print(\"1k species with only contigs:\", onek_contig )\n",
    "print(\"1k that contain both chromosomes and contigs:\", chrom_and_contig)"
   ]
  },
  {
   "cell_type": "markdown",
   "metadata": {},
   "source": [
    "# Combined DNA Type Breakdown (ENSEMBL, 1K, NCBI)"
   ]
  },
  {
   "cell_type": "code",
   "execution_count": 6,
   "metadata": {
    "scrolled": true
   },
   "outputs": [
    {
     "data": {
      "image/png": "[encoded data removed]",
      "text/plain": [
       "<Figure size 432x288 with 1 Axes>"
      ]
     },
     "metadata": {},
     "output_type": "display_data"
    }
   ],
   "source": [
    "only_chr = [150, 65, 15]\n",
    "only_contig = [618, 193, 978]\n",
    "contig_and_chr = [43,10,4]\n",
    "index = ['only chromosomes', 'only contigs', 'contigs and chromosomes']\n",
    "df = pd.DataFrame({'Ensembl': only_chr,'NCBI': only_contig, '1K': contig_and_chr}, index=index)\n",
    "ax = df.plot.bar(rot=0)"
   ]
  },
  {
   "cell_type": "markdown",
   "metadata": {},
   "source": [
    "# PIE CHART DATABASE COMPOSITION"
   ]
  },
  {
   "cell_type": "code",
   "execution_count": 45,
   "metadata": {},
   "outputs": [
    {
     "name": "stdout",
     "output_type": "stream",
     "text": [
      "SpeciesCount\n",
      "811\n",
      "277\n",
      "1060\n",
      "GenusCount\n",
      "271\n",
      "160\n",
      "612\n"
     ]
    },
    {
     "data": {
      "image/png": "[encoded data removed]",
      "text/plain": [
       "<Figure size 1152x576 with 2 Axes>"
      ]
     },
     "metadata": {},
     "output_type": "display_data"
    }
   ],
   "source": [
    "import pandas as pd\n",
    "import seaborn as sns\n",
    "import sqlite3\n",
    "import csv\n",
    "cnx = sqlite3.connect(r'/Users/aaronkarlsberg/Desktop/199/db.microbiome/Fungi/data/refSeqFungiStats.db')\n",
    "\n",
    "ensembl_species = pd.read_sql_query(\"SELECT TAXID FROM speciesdb where dbname = 'ENSEMBLE'\", cnx).size\n",
    "NCBI_species = pd.read_sql_query(\"SELECT TAXID FROM speciesdb where dbname = 'NCBI'\", cnx).size\n",
    "OneK_species = pd.read_sql_query(\"SELECT TAXID FROM speciesdb where dbname = '1K'\", cnx).size\n",
    "\n",
    "print(\"SpeciesCount\")\n",
    "\n",
    "print(ensembl_species)\n",
    "print(NCBI_species)\n",
    "print(OneK_species)\n",
    "\n",
    "ensembl_genus = pd.read_sql_query(\"SELECT DISTINCT GenusName FROM speciesdb where dbname = 'ENSEMBLE'\", cnx).size\n",
    "NCBI_genus = pd.read_sql_query(\"SELECT DISTINCT GenusName FROM speciesdb where dbname = 'NCBI'\", cnx).size\n",
    "OneK_genus = pd.read_sql_query(\"SELECT DISTINCT GenusName FROM speciesdb where dbname = '1K'\", cnx).size\n",
    "\n",
    "print(\"GenusCount\")\n",
    "print(ensembl_genus)\n",
    "print(NCBI_genus)\n",
    "print(OneK_genus)\n",
    "\n",
    "\n",
    "df = pd.DataFrame({'NumSpecies': [ensembl_species, NCBI_species , OneK_species],'NumGenus': [ensembl_genus, NCBI_genus,OneK_genus]},\n",
    "                  index=['Ensembl', 'NCBI', '1K'])\n",
    "# plot = df.plot.pie(y='NumSpecies', figsize=(8, 8))\n",
    "# plot = df.plot.pie(subplots=True, figsize=(16, 8))\n",
    "\n",
    "plot = df.plot.pie(autopct='%1.0f%%', labeldistance=1.2, fontsize=10, subplots=True, figsize=(16, 8))\n",
    "\n"
   ]
  },
  {
   "cell_type": "code",
   "execution_count": null,
   "metadata": {},
   "outputs": [],
   "source": []
  },
  {
   "cell_type": "code",
   "execution_count": null,
   "metadata": {},
   "outputs": [],
   "source": []
  },
  {
   "cell_type": "code",
   "execution_count": null,
   "metadata": {},
   "outputs": [],
   "source": []
  },
  {
   "cell_type": "code",
   "execution_count": null,
   "metadata": {},
   "outputs": [],
   "source": []
  },
  {
   "cell_type": "code",
   "execution_count": null,
   "metadata": {},
   "outputs": [],
   "source": []
  },
  {
   "cell_type": "code",
   "execution_count": null,
   "metadata": {},
   "outputs": [],
   "source": []
  },
  {
   "cell_type": "code",
   "execution_count": null,
   "metadata": {},
   "outputs": [],
   "source": []
  },
  {
   "cell_type": "code",
   "execution_count": null,
   "metadata": {},
   "outputs": [],
   "source": []
  },
  {
   "cell_type": "code",
   "execution_count": null,
   "metadata": {},
   "outputs": [],
   "source": []
  },
  {
   "cell_type": "code",
   "execution_count": null,
   "metadata": {},
   "outputs": [],
   "source": []
  },
  {
   "cell_type": "code",
   "execution_count": null,
   "metadata": {},
   "outputs": [],
   "source": []
  },
  {
   "cell_type": "code",
   "execution_count": null,
   "metadata": {},
   "outputs": [],
   "source": []
  },
  {
   "cell_type": "code",
   "execution_count": null,
   "metadata": {},
   "outputs": [],
   "source": []
  }
 ],
 "metadata": {
  "kernelspec": {
   "display_name": "Python 3",
   "language": "python",
   "name": "python3"
  },
  "language_info": {
   "codemirror_mode": {
    "name": "ipython",
    "version": 3
   },
   "file_extension": ".py",
   "mimetype": "text/x-python",
   "name": "python",
   "nbconvert_exporter": "python",
   "pygments_lexer": "ipython3",
   "version": "3.6.5"
  }
 },
 "nbformat": 4,
 "nbformat_minor": 2
}
